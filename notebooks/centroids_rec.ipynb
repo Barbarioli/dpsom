{
 "cells": [
  {
   "cell_type": "markdown",
   "metadata": {},
   "source": [
    "# Centroids Reconstruction on MNIST / Fashion MNIST datasets"
   ]
  },
  {
   "cell_type": "code",
   "execution_count": 1,
   "metadata": {
    "ExecuteTime": {
     "end_time": "2019-09-30T13:17:04.399241Z",
     "start_time": "2019-09-30T13:16:54.918782Z"
    }
   },
   "outputs": [],
   "source": [
    "import tensorflow as tf\n",
    "from sklearn.model_selection import train_test_split\n",
    "import numpy as np\n",
    "import matplotlib.pyplot as plt\n",
    "import seaborn as sns\n",
    "import matplotlib.pyplot as plt"
   ]
  },
  {
   "cell_type": "markdown",
   "metadata": {},
   "source": [
    "If MNIST dataset is used, run:"
   ]
  },
  {
   "cell_type": "code",
   "execution_count": 2,
   "metadata": {
    "ExecuteTime": {
     "end_time": "2019-09-30T13:17:04.783521Z",
     "start_time": "2019-09-30T13:17:04.402210Z"
    }
   },
   "outputs": [],
   "source": [
    "mnist = tf.keras.datasets.mnist.load_data(path='mnist.npz')"
   ]
  },
  {
   "cell_type": "markdown",
   "metadata": {},
   "source": [
    "Else if Fashion MNIST is used, run:"
   ]
  },
  {
   "cell_type": "code",
   "execution_count": 25,
   "metadata": {
    "ExecuteTime": {
     "end_time": "2019-09-30T13:30:25.276616Z",
     "start_time": "2019-09-30T13:30:24.748652Z"
    }
   },
   "outputs": [],
   "source": [
    "mnist = tf.keras.datasets.fashion_mnist.load_data()"
   ]
  },
  {
   "cell_type": "markdown",
   "metadata": {},
   "source": [
    "Divide the data into test set and training set:"
   ]
  },
  {
   "cell_type": "code",
   "execution_count": 26,
   "metadata": {
    "ExecuteTime": {
     "end_time": "2019-09-30T13:30:26.269904Z",
     "start_time": "2019-09-30T13:30:25.463619Z"
    }
   },
   "outputs": [
    {
     "name": "stdout",
     "output_type": "stream",
     "text": [
      "(60000, 1)\n"
     ]
    },
    {
     "data": {
      "text/plain": [
       "(10000, 28, 28, 1)"
      ]
     },
     "execution_count": 26,
     "metadata": {},
     "output_type": "execute_result"
    }
   ],
   "source": [
    "data_total = np.reshape(mnist[0][0], [-1,28*28])\n",
    "maxx = np.reshape(np.amax(data_total, axis = -1), [-1,1])\n",
    "print(maxx.shape)\n",
    "data_total = np.reshape(data_total/maxx, [-1,28,28,1])\n",
    "labels_total = mnist[0][1]\n",
    "data_train, data_val, labels_train, labels_val = train_test_split(data_total, labels_total, test_size = 0.25, random_state = 42)\n",
    "data_test = np.reshape(mnist[1][0], [-1,28*28])\n",
    "maxx = np.reshape(np.amax(data_test, axis = -1), [-1,1])\n",
    "data_test = np.reshape(data_test/maxx, [-1,28,28,1])\n",
    "data_test.shape"
   ]
  },
  {
   "cell_type": "markdown",
   "metadata": {},
   "source": [
    "Here we use test set:"
   ]
  },
  {
   "cell_type": "code",
   "execution_count": 27,
   "metadata": {
    "ExecuteTime": {
     "end_time": "2019-09-30T13:30:26.812228Z",
     "start_time": "2019-09-30T13:30:26.807632Z"
    }
   },
   "outputs": [],
   "source": [
    "data_val=data_test\n",
    "labels_val=mnist[1][1]"
   ]
  },
  {
   "cell_type": "markdown",
   "metadata": {},
   "source": [
    "Insert the name of the trained model:"
   ]
  },
  {
   "cell_type": "code",
   "execution_count": 28,
   "metadata": {
    "ExecuteTime": {
     "end_time": "2019-09-30T13:30:27.846252Z",
     "start_time": "2019-09-30T13:30:27.842439Z"
    }
   },
   "outputs": [],
   "source": [
    "ex_name =\"hyperopt_100_8-8_2019-09-29_18851\""
   ]
  },
  {
   "cell_type": "markdown",
   "metadata": {},
   "source": [
    "Create model path:"
   ]
  },
  {
   "cell_type": "code",
   "execution_count": 29,
   "metadata": {
    "ExecuteTime": {
     "end_time": "2019-09-30T13:30:30.598783Z",
     "start_time": "2019-09-30T13:30:30.594304Z"
    }
   },
   "outputs": [],
   "source": [
    "modelpath = \"../models/{}/{}.ckpt\".format(ex_name, ex_name)\n",
    "som_dim=[8,8]"
   ]
  },
  {
   "cell_type": "markdown",
   "metadata": {},
   "source": [
    "Run the trained model on test set:"
   ]
  },
  {
   "cell_type": "code",
   "execution_count": null,
   "metadata": {
    "ExecuteTime": {
     "start_time": "2019-09-30T13:29:16.947Z"
    }
   },
   "outputs": [
    {
     "name": "stdout",
     "output_type": "stream",
     "text": [
      "INFO:tensorflow:Restoring parameters from ../models/hyperopt_100_8-8_2019-09-29_18851/hyperopt_100_8-8_2019-09-29_18851.ckpt\n",
      "Evaluation...\n"
     ]
    }
   ],
   "source": [
    "tf.reset_default_graph()\n",
    "som_dim=[8,8]\n",
    "with tf.Session() as sess:\n",
    "    sess.run(tf.global_variables_initializer())\n",
    "    saver = tf.train.import_meta_graph(modelpath+\".meta\")\n",
    "    saver.restore(sess, modelpath)\n",
    "    graph = tf.get_default_graph()\n",
    "    is_t = graph.get_tensor_by_name(\"is_training/is_training:0\")\n",
    "    z_p = graph.get_tensor_by_name(\"reconstruction_e/decoder/z_e:0\")\n",
    "    x_hat = graph.get_tensor_by_name(\"reconstruction_e/decoder/x_hat:0\")\n",
    "    k = graph.get_tensor_by_name(\"k/k:0\")\n",
    "    z_q = graph.get_tensor_by_name(\"z_q/z_q:0\")\n",
    "    z_e = graph.get_tensor_by_name(\"sample_z_e/z_e:0\")\n",
    "    x = graph.get_tensor_by_name(\"inputs/x:0\")\n",
    "    q = graph.get_tensor_by_name(\"q/distribution/q:0\")\n",
    "    embeddings = graph.get_tensor_by_name(\"embeddings/embeddings:0\")\n",
    "\n",
    "    k_all = []\n",
    "    test_rec_all = []\n",
    "    test_mse_all = []\n",
    "    labels_val_all = []\n",
    "    z_q_all = []\n",
    "    z_e_all = []\n",
    "    print(\"Evaluation...\")\n",
    "    \n",
    "    z_q_all = sess.run(z_q, feed_dict={x: data_val})\n",
    "    q = sess.run(q, feed_dict={x:data_val})\n",
    "    z_e_all = sess.run(z_e, feed_dict={x: data_val})\n",
    "    k_all = sess.run(k, feed_dict={x: data_val})\n",
    "    embeddings_e = sess.run(embeddings, feed_dict={x: data_val})\n",
    "    x_hat_all = np.zeros((som_dim[0],som_dim[1],28,28))\n",
    "    for i in range(som_dim[0]):\n",
    "        for j in range(som_dim[1]):\n",
    "            x_hat_o = sess.run(tf.sigmoid(x_hat), feed_dict={is_t: False, x: np.zeros((1, 28,28,1)), z_p: np.expand_dims(embeddings_e[i,j], 0)})\n",
    "            x_hat_all[i,j] = np.reshape(x_hat_o, (28,28))"
   ]
  },
  {
   "cell_type": "markdown",
   "metadata": {},
   "source": [
    "Reconstruct the input:"
   ]
  },
  {
   "cell_type": "code",
   "execution_count": null,
   "metadata": {
    "ExecuteTime": {
     "start_time": "2019-09-30T13:29:18.531Z"
    }
   },
   "outputs": [],
   "source": [
    "fig, axes = plt.subplots(8, 8, figsize=(20,20))\n",
    "for i in range(8):\n",
    "    for j in range(8):\n",
    "        axes[i,j].imshow(x_hat_all[i,j], cmap='gray')"
   ]
  },
  {
   "cell_type": "code",
   "execution_count": null,
   "metadata": {},
   "outputs": [],
   "source": []
  }
 ],
 "metadata": {
  "kernelspec": {
   "display_name": "Python 3",
   "language": "python",
   "name": "python3"
  },
  "language_info": {
   "codemirror_mode": {
    "name": "ipython",
    "version": 3
   },
   "file_extension": ".py",
   "mimetype": "text/x-python",
   "name": "python",
   "nbconvert_exporter": "python",
   "pygments_lexer": "ipython3",
   "version": "3.7.2"
  }
 },
 "nbformat": 4,
 "nbformat_minor": 2
}
